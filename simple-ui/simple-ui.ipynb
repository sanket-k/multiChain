{
 "cells": [
  {
   "cell_type": "markdown",
   "metadata": {},
   "source": [
    "# Multichain-simpleUI\n",
    "\n",
    "    import tkinter for python GUI\n",
    "    import os for system file location"
   ]
  },
  {
   "cell_type": "code",
   "execution_count": 49,
   "metadata": {
    "collapsed": true
   },
   "outputs": [],
   "source": [
    "from tkinter import *\n",
    "import os"
   ]
  },
  {
   "cell_type": "markdown",
   "metadata": {},
   "source": [
    "# Working\n",
    "    \n",
    "    1. locate file in system(here the files are in the same directory as the python file)\n",
    "    2. create a simple UI with three buttons\n",
    "    3. button1 ==> creates a new chain named \"chain1\" through a .bat file(code : multichain-ulti)\n",
    "    4. button2 ==> launches the newly created chain1 through a .bat file(code : multichaind chain1 -daemon)\n",
    "    5. button3 ==> exits the chain through a .bat file(code : /cmd c exit) "
   ]
  },
  {
   "cell_type": "code",
   "execution_count": 65,
   "metadata": {
    "collapsed": true
   },
   "outputs": [],
   "source": [
    "class application(Frame):\n",
    "    def openFileCreate(self):\n",
    "        # change file location as per reqirement\n",
    "        os.system(r'\"\"C:\\\\Users\\\\zero\\\\Desktop\\\\int\\\\create-chain.bat\"\"')\n",
    "        \n",
    "    def openFileLaunch(self):\n",
    "        os.system(r'\"\"C:\\\\Users\\\\zero\\\\Desktop\\\\int\\\\launch-chain.bat\"\"')\n",
    "        \n",
    "    def openFileExit(self):\n",
    "        os.system(r'\"\"C:\\\\Users\\\\zero\\\\Desktop\\\\int\\\\exit-chain.bat\"\"')\n",
    "        \n",
    "    def __init__(self,master):\n",
    "        Frame.__init__(self,master)\n",
    "        self.grid()\n",
    "        self.create_widgets()\n",
    "        \n",
    "    def create_widgets(self):\n",
    "        #create chain\n",
    "        self.create_button = Button(self,command = self.openFileCreate,text=\"create chain\")\n",
    "        self.create_button.grid(row = 0,column = 1,columnspan = 1,sticky = W)\n",
    "        \n",
    "        #launch chain\n",
    "        self.launch_button = Button(self,command = self.openFileLaunch,text=\"launch chain\")\n",
    "        self.launch_button.grid(row = 2,column = 2,columnspan = 2,sticky = W)\n",
    "        \n",
    "        #exit chain\n",
    "        self.exit_button = Button(self,command = self.openFileExit,text=\"exit chain\")\n",
    "        self.exit_button.grid(row = 3,column = 2,columnspan = 2, sticky = W)\n",
    "        \n",
    "        \n",
    "root = Tk()\n",
    "root.title(\"Multichain-Launcher\")\n",
    "root.geometry(\"200x100\")\n",
    "app = application(root)\n",
    "root.mainloop()"
   ]
  },
  {
   "cell_type": "code",
   "execution_count": null,
   "metadata": {
    "collapsed": true
   },
   "outputs": [],
   "source": []
  }
 ],
 "metadata": {
  "kernelspec": {
   "display_name": "Python 3",
   "language": "python",
   "name": "python3"
  },
  "language_info": {
   "codemirror_mode": {
    "name": "ipython",
    "version": 3
   },
   "file_extension": ".py",
   "mimetype": "text/x-python",
   "name": "python",
   "nbconvert_exporter": "python",
   "pygments_lexer": "ipython3",
   "version": "3.5.3rc1"
  }
 },
 "nbformat": 4,
 "nbformat_minor": 2
}
